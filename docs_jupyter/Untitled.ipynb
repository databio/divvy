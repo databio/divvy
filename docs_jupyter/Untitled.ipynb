{
 "cells": [
  {
   "cell_type": "markdown",
   "metadata": {},
   "source": [
    "# <img src=\"../img/divvy_logo.svg\" class=\"img-header\"> tutorial using the command-line interface\n",
    "\n",
    "`Divvy` also provides a command-line interface that gives you the same power as the python API. You can use `--help` to get a list of the command-line options:"
   ]
  },
  {
   "cell_type": "code",
   "execution_count": 2,
   "metadata": {
    "collapsed": false
   },
   "outputs": [
    {
     "name": "stdout",
     "output_type": "stream",
     "text": [
      "version: 0.2-dev\n",
      "usage: divvy [-h] [-V] [-C CONFIG] [-S SETTINGS] [-P PACKAGE] -O OUTFILE\n",
      "\n",
      "divvy - write compute jobs that can be submitted to any computing resource\n",
      "\n",
      "optional arguments:\n",
      "  -h, --help            show this help message and exit\n",
      "  -V, --version         show program's version number and exit\n",
      "  -C CONFIG, --config CONFIG\n",
      "                        Divvy configuration file.\n",
      "  -S SETTINGS, --settings SETTINGS\n",
      "                        YAML file with job settings to populate the template.\n",
      "  -P PACKAGE, --package PACKAGE\n",
      "                        Compute package\n",
      "  -O OUTFILE, --outfile OUTFILE\n",
      "                        Output filepath\n",
      "\n",
      "https://github.com/pepkit/divvy\n"
     ]
    }
   ],
   "source": [
    "divvy --help"
   ]
  },
  {
   "cell_type": "markdown",
   "metadata": {},
   "source": [
    "## The settings file\n",
    "\n",
    "The settings argument is where you can pass an existing `yaml` file with key-value pairs. Here's a simple example:"
   ]
  },
  {
   "cell_type": "code",
   "execution_count": 7,
   "metadata": {
    "collapsed": false
   },
   "outputs": [
    {
     "name": "stdout",
     "output_type": "stream",
     "text": [
      "time: 4-0-0\n",
      "logfile: results.log\n",
      "cores: 6\n",
      "partition: large_mem\n"
     ]
    }
   ],
   "source": [
    "cat settings.yaml"
   ]
  },
  {
   "cell_type": "markdown",
   "metadata": {},
   "source": [
    "Now let's take a look at the template we are going to use by activating the `slurm` package"
   ]
  },
  {
   "cell_type": "code",
   "execution_count": 8,
   "metadata": {
    "collapsed": false
   },
   "outputs": [
    {
     "name": "stdout",
     "output_type": "stream",
     "text": [
      "#!/bin/bash\n",
      "#SBATCH --job-name='{JOBNAME}'\n",
      "#SBATCH --output='{LOGFILE}'\n",
      "#SBATCH --mem='{MEM}'\n",
      "#SBATCH --cpus-per-task='{CORES}'\n",
      "#SBATCH --time='{TIME}'\n",
      "#SBATCH --partition='{PARTITION}'\n",
      "#SBATCH -m block\n",
      "#SBATCH --ntasks=1\n",
      "\n",
      "echo 'Compute node:' `hostname`\n",
      "echo 'Start time:' `date +'%Y-%m-%d %T'`\n",
      "\n",
      "{CODE}\n"
     ]
    }
   ],
   "source": [
    "cat ../divvy/submit_templates/slurm_template.sub"
   ]
  },
  {
   "cell_type": "markdown",
   "metadata": {},
   "source": [
    "We use `divvy` to populate that template with our list of variables above, like this:"
   ]
  },
  {
   "cell_type": "code",
   "execution_count": 14,
   "metadata": {
    "collapsed": false
   },
   "outputs": [
    {
     "name": "stdout",
     "output_type": "stream",
     "text": [
      "Traceback (most recent call last):\n",
      "  File \"/usr/lib/python2.7/logging/__init__.py\", line 861, in emit\n",
      "    msg = self.format(record)\n",
      "  File \"/usr/lib/python2.7/logging/__init__.py\", line 734, in format\n",
      "    return fmt.format(record)\n",
      "  File \"/usr/lib/python2.7/logging/__init__.py\", line 465, in format\n",
      "    record.message = record.getMessage()\n",
      "  File \"/usr/lib/python2.7/logging/__init__.py\", line 329, in getMessage\n",
      "    msg = msg % self.args\n",
      "TypeError: not all arguments converted during string formatting\n",
      "Logged from file compute.py, line 329\n",
      "No global config file was provided in environment variable(s): ['DIVCFG', 'PEPENV']\n",
      "Using default config file.\n",
      "Loading divvy config file: /home/nsheff/.local/lib/python2.7/site-packages/divvy/submit_templates/default_compute_settings.yaml\n",
      "Available packages: default, local, slurm\n",
      "Activating compute package 'default'\n",
      "Activating compute package 'slurm'\n",
      "Loading yaml settings file: settings.yaml\n",
      "Writing script to /home/nsheff/code/divvy/docs_jupyter/test.sub\n"
     ]
    }
   ],
   "source": [
    "divvy -P slurm -S settings.yaml -O test.sub"
   ]
  },
  {
   "cell_type": "code",
   "execution_count": 11,
   "metadata": {
    "collapsed": false
   },
   "outputs": [
    {
     "name": "stdout",
     "output_type": "stream",
     "text": [
      "#!/bin/bash\n",
      "#SBATCH --job-name='{JOBNAME}'\n",
      "#SBATCH --output='results.log'\n",
      "#SBATCH --mem='{MEM}'\n",
      "#SBATCH --cpus-per-task='6'\n",
      "#SBATCH --time='4-0-0'\n",
      "#SBATCH --partition='large_mem'\n",
      "#SBATCH -m block\n",
      "#SBATCH --ntasks=1\n",
      "\n",
      "echo 'Compute node:' `hostname`\n",
      "echo 'Start time:' `date +'%Y-%m-%d %T'`\n",
      "\n",
      "{CODE}\n"
     ]
    }
   ],
   "source": [
    "cat test.sub"
   ]
  },
  {
   "cell_type": "markdown",
   "metadata": {},
   "source": [
    "We didn't include the actual command we wanted to run the `code` variable, so this template is incomplete. We can pass that variable (along with any other variables) either in the compute package, in the `settings.yaml` file, or on the command-line. The later ones have priority and will override any values in the more distant locations. For example:"
   ]
  },
  {
   "cell_type": "code",
   "execution_count": 4,
   "metadata": {
    "collapsed": false
   },
   "outputs": [
    {
     "name": "stdout",
     "output_type": "stream",
     "text": [
      "/home/nsheff/code/divvy/docs_jupyter\n"
     ]
    }
   ],
   "source": [
    "divvy -P slurm -S settings.yaml -O test.sub --code run-this-cmd --jobname 12345 --time test"
   ]
  },
  {
   "cell_type": "code",
   "execution_count": 12,
   "metadata": {
    "collapsed": false
   },
   "outputs": [
    {
     "name": "stdout",
     "output_type": "stream",
     "text": [
      "#!/bin/bash\n",
      "#SBATCH --job-name='{JOBNAME}'\n",
      "#SBATCH --output='results.log'\n",
      "#SBATCH --mem='{MEM}'\n",
      "#SBATCH --cpus-per-task='6'\n",
      "#SBATCH --time='4-0-0'\n",
      "#SBATCH --partition='large_mem'\n",
      "#SBATCH -m block\n",
      "#SBATCH --ntasks=1\n",
      "\n",
      "echo 'Compute node:' `hostname`\n",
      "echo 'Start time:' `date +'%Y-%m-%d %T'`\n",
      "\n",
      "{CODE}\n"
     ]
    }
   ],
   "source": [
    "cat test.sub"
   ]
  }
 ],
 "metadata": {
  "kernelspec": {
   "display_name": "Bash",
   "language": "bash",
   "name": "bash"
  },
  "language_info": {
   "codemirror_mode": "shell",
   "file_extension": ".sh",
   "mimetype": "text/x-sh",
   "name": "bash"
  }
 },
 "nbformat": 4,
 "nbformat_minor": 2
}
