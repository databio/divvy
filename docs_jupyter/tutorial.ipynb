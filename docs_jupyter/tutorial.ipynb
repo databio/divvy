{
 "cells": [
  {
   "cell_type": "markdown",
   "metadata": {
    "deletable": true,
    "editable": true
   },
   "source": [
    "# <img src=\"../img/divvy_logo.svg\" class=\"img-header\"> tutorial\n",
    "\n",
    "## Compute packages\n",
    "\n",
    "When you start `divvy`, you may provide a configuration file that specifies one or more *compute packages*. A compute package is just a set of a variables that contains information needed to run a job, such as a job submission template, the command that you use to submit a job (*e.g.* `sbatch` or `qsub`), and any other variables needed to fill the template (*e.g.* `partition` or `account`). You can find out [how to write your own divvy config file](../configuration), but for this tutorial, we'll just use the default.\n",
    "\n",
    "Start by importing `divvy`, and then create a new `ComputingConfiguration` object. If you provide no arguments, you'll just get a few default packages:"
   ]
  },
  {
   "cell_type": "code",
   "execution_count": 1,
   "metadata": {
    "collapsed": false,
    "deletable": true,
    "editable": true,
    "scrolled": true
   },
   "outputs": [
    {
     "name": "stdout",
     "output_type": "stream",
     "text": [
      "No local config file was provided\n",
      "No global config file was provided in environment variable(s): ['DIVCFG', 'PEPENV']\n",
      "Using default config file.\n",
      "Loading divvy config file: /home/nsheff/.local/lib/python2.7/site-packages/divvy/submit_templates/default_compute_settings.yaml\n",
      "Available packages: set(['default', 'local', 'slurm'])\n",
      "Activating compute package 'default'\n"
     ]
    }
   ],
   "source": [
    "import divvy\n",
    "dcc = divvy.ComputingConfiguration()"
   ]
  },
  {
   "cell_type": "markdown",
   "metadata": {
    "deletable": true,
    "editable": true
   },
   "source": [
    "This loads up the default compute package, and we see that there are a few other packages available. We can explore the compute settings in the loaded (`default`) package like this: "
   ]
  },
  {
   "cell_type": "code",
   "execution_count": 2,
   "metadata": {
    "collapsed": false,
    "deletable": true,
    "editable": true
   },
   "outputs": [
    {
     "data": {
      "text/plain": [
       "{'submission_command': 'sh', 'submission_template': '/home/nsheff/.local/lib/python2.7/site-packages/divvy/submit_templates/localhost_template.sub'}"
      ]
     },
     "execution_count": 2,
     "metadata": {},
     "output_type": "execute_result"
    }
   ],
   "source": [
    "dcc.compute"
   ]
  },
  {
   "cell_type": "markdown",
   "metadata": {
    "deletable": true,
    "editable": true
   },
   "source": [
    "Here you can see that a *compute package* is really a simple thing. In this case, it's just 2 key-value pairs. The `submission_template` key is a path to a template file, with these contents: \n",
    "\n"
   ]
  },
  {
   "cell_type": "code",
   "execution_count": 3,
   "metadata": {
    "collapsed": false,
    "deletable": true,
    "editable": true
   },
   "outputs": [
    {
     "name": "stdout",
     "output_type": "stream",
     "text": [
      "#!/bin/bash\n",
      "\n",
      "echo 'Compute node:' `hostname`\n",
      "echo 'Start time:' `date +'%Y-%m-%d %T'`\n",
      "\n",
      "{CODE} | tee {LOGFILE}\n",
      "\n"
     ]
    }
   ],
   "source": [
    "with open(dcc.compute.submission_template) as f:\n",
    "    print(f.read())"
   ]
  },
  {
   "cell_type": "markdown",
   "metadata": {
    "deletable": true,
    "editable": true
   },
   "source": [
    "We can populate this simple template by passing values for the `{VARIABLE}` text in the template:"
   ]
  },
  {
   "cell_type": "code",
   "execution_count": 4,
   "metadata": {
    "collapsed": false,
    "deletable": true,
    "editable": true
   },
   "outputs": [
    {
     "name": "stdout",
     "output_type": "stream",
     "text": [
      "Writing script to /home/nsheff/code/divvy/docs_jupyter/test_local.sub\n"
     ]
    },
    {
     "data": {
      "text/plain": [
       "'test_local.sub'"
      ]
     },
     "execution_count": 4,
     "metadata": {},
     "output_type": "execute_result"
    }
   ],
   "source": [
    "dcc.write_script(\"test_local.sub\", {\"code\": \"run-this-command\", \"logfile\": \"logfile.txt\"})"
   ]
  },
  {
   "cell_type": "markdown",
   "metadata": {
    "deletable": true,
    "editable": true
   },
   "source": [
    "Now let's look at the contents of our populated template:"
   ]
  },
  {
   "cell_type": "code",
   "execution_count": 5,
   "metadata": {
    "collapsed": false,
    "deletable": true,
    "editable": true
   },
   "outputs": [
    {
     "name": "stdout",
     "output_type": "stream",
     "text": [
      "#!/bin/bash\n",
      "\n",
      "echo 'Compute node:' `hostname`\n",
      "echo 'Start time:' `date +'%Y-%m-%d %T'`\n",
      "\n",
      "run-this-command | tee logfile.txt\n",
      "\n"
     ]
    }
   ],
   "source": [
    "with open(\"test_local.sub\") as f:\n",
    "    print(f.read())"
   ]
  },
  {
   "cell_type": "markdown",
   "metadata": {
    "deletable": true,
    "editable": true
   },
   "source": [
    "The `submission_command` contains the shell instruction that would be used to submit this populated template; in this case, it's simply `sh` to run this script in the console. We can activate a different *compute_package* like this: "
   ]
  },
  {
   "cell_type": "code",
   "execution_count": 7,
   "metadata": {
    "collapsed": false,
    "deletable": true,
    "editable": true
   },
   "outputs": [
    {
     "name": "stdout",
     "output_type": "stream",
     "text": [
      "Activating compute package 'slurm'\n"
     ]
    },
    {
     "data": {
      "text/plain": [
       "True"
      ]
     },
     "execution_count": 7,
     "metadata": {},
     "output_type": "execute_result"
    }
   ],
   "source": [
    "dcc.activate_package(\"slurm\")"
   ]
  },
  {
   "cell_type": "markdown",
   "metadata": {
    "deletable": true,
    "editable": true
   },
   "source": [
    "It returns 'True' to indicate that the activation has been successful. This will change our settings. Let's inspect the new package:"
   ]
  },
  {
   "cell_type": "code",
   "execution_count": 8,
   "metadata": {
    "collapsed": false,
    "deletable": true,
    "editable": true,
    "scrolled": true
   },
   "outputs": [
    {
     "data": {
      "text/plain": [
       "{'submission_command': 'sbatch', 'logfile': 'logfile.txt', 'submission_template': '/home/nsheff/.local/lib/python2.7/site-packages/divvy/submit_templates/slurm_template.sub', 'code': 'run-this-command'}"
      ]
     },
     "execution_count": 8,
     "metadata": {},
     "output_type": "execute_result"
    }
   ],
   "source": [
    "dcc.compute"
   ]
  },
  {
   "cell_type": "markdown",
   "metadata": {
    "deletable": true,
    "editable": true
   },
   "source": [
    "Now that we've activated the package of interest, we can use those variables to populate a submission template to create a submission script. Use the `write_script` function:"
   ]
  },
  {
   "cell_type": "code",
   "execution_count": 9,
   "metadata": {
    "collapsed": false,
    "deletable": true,
    "editable": true
   },
   "outputs": [
    {
     "name": "stdout",
     "output_type": "stream",
     "text": [
      "Writing script to /home/nsheff/code/divvy/docs_jupyter/test_script.sub\n"
     ]
    }
   ],
   "source": [
    "s = dcc.write_script(\"test_script.sub\")"
   ]
  },
  {
   "cell_type": "markdown",
   "metadata": {
    "deletable": true,
    "editable": true
   },
   "source": [
    "This function opens the template specified by the `submission_template` variable in the compute package, and then populates any template variables with values from the compute package. In this case, our compute package didn't have *all* relevant variables and so the template is returned with a few variables left unpopulated:"
   ]
  },
  {
   "cell_type": "code",
   "execution_count": 10,
   "metadata": {
    "collapsed": false,
    "deletable": true,
    "editable": true
   },
   "outputs": [
    {
     "name": "stdout",
     "output_type": "stream",
     "text": [
      "#!/bin/bash\n",
      "#SBATCH --job-name='{JOBNAME}'\n",
      "#SBATCH --output='logfile.txt'\n",
      "#SBATCH --mem='{MEM}'\n",
      "#SBATCH --cpus-per-task='{CORES}'\n",
      "#SBATCH --time='{TIME}'\n",
      "#SBATCH --partition='{PARTITION}'\n",
      "#SBATCH -m block\n",
      "#SBATCH --ntasks=1\n",
      "\n",
      "echo 'Compute node:' `hostname`\n",
      "echo 'Start time:' `date +'%Y-%m-%d %T'`\n",
      "\n",
      "run-this-command\n",
      "\n"
     ]
    }
   ],
   "source": [
    "with open(\"test_script.sub\") as f:\n",
    "    print(f.read())"
   ]
  },
  {
   "cell_type": "markdown",
   "metadata": {
    "deletable": true,
    "editable": true
   },
   "source": [
    "In addition to using the compute package variables, we can also pass some extra variables along to the the `write_script` function. Let's pass a value for the `code` variable and see how this changes the submission script output:"
   ]
  },
  {
   "cell_type": "code",
   "execution_count": 7,
   "metadata": {
    "collapsed": false,
    "deletable": true,
    "editable": true
   },
   "outputs": [
    {
     "name": "stdout",
     "output_type": "stream",
     "text": [
      "Writing script to /home/nsheff/code/divvy/docs_jupyter/test_script.sub\n"
     ]
    }
   ],
   "source": [
    "s = dcc.write_script(\"test_script.sub\", {\"code\":\"yellow\"})"
   ]
  },
  {
   "cell_type": "markdown",
   "metadata": {
    "deletable": true,
    "editable": true
   },
   "source": [
    "Here's the output. Notice that the `{CODE}` variable has been replaced with the word `yellow`:"
   ]
  },
  {
   "cell_type": "code",
   "execution_count": 8,
   "metadata": {
    "collapsed": false,
    "deletable": true,
    "editable": true
   },
   "outputs": [
    {
     "name": "stdout",
     "output_type": "stream",
     "text": [
      "#!/bin/bash\n",
      "#SBATCH --job-name='{JOBNAME}'\n",
      "#SBATCH --output='{LOGFILE}'\n",
      "#SBATCH --mem='{MEM}'\n",
      "#SBATCH --cpus-per-task='{CORES}'\n",
      "#SBATCH --time='{TIME}'\n",
      "#SBATCH --partition='{PARTITION}'\n",
      "#SBATCH -m block\n",
      "#SBATCH --ntasks=1\n",
      "\n",
      "echo 'Compute node:' `hostname`\n",
      "echo 'Start time:' `date +'%Y-%m-%d %T'`\n",
      "\n",
      "yellow\n",
      "\n"
     ]
    }
   ],
   "source": [
    "with open(\"test_script.sub\") as f:\n",
    "    print(f.read())"
   ]
  },
  {
   "cell_type": "markdown",
   "metadata": {
    "deletable": true,
    "editable": true
   },
   "source": [
    "## Using a priority list of variables\n",
    "\n",
    "Now, you can also pass more than one `Dict` object, in priority order, by just passing a list. Here, we'll pass 2 dicts, and any values in the 2nd one will override values in the first:"
   ]
  },
  {
   "cell_type": "code",
   "execution_count": 9,
   "metadata": {
    "collapsed": false,
    "deletable": true,
    "editable": true
   },
   "outputs": [
    {
     "name": "stdout",
     "output_type": "stream",
     "text": [
      "Writing script to /home/nsheff/code/divvy/docs_jupyter/test_script.sub\n"
     ]
    }
   ],
   "source": [
    "s = dcc.write_script(\"test_script.sub\", [{\"code\":\"yellow\", \"time\": \"now\"}, {\"code\": \"red\"}])"
   ]
  },
  {
   "cell_type": "code",
   "execution_count": 10,
   "metadata": {
    "collapsed": false,
    "deletable": true,
    "editable": true
   },
   "outputs": [
    {
     "name": "stdout",
     "output_type": "stream",
     "text": [
      "#!/bin/bash\n",
      "#SBATCH --job-name='{JOBNAME}'\n",
      "#SBATCH --output='{LOGFILE}'\n",
      "#SBATCH --mem='{MEM}'\n",
      "#SBATCH --cpus-per-task='{CORES}'\n",
      "#SBATCH --time='now'\n",
      "#SBATCH --partition='{PARTITION}'\n",
      "#SBATCH -m block\n",
      "#SBATCH --ntasks=1\n",
      "\n",
      "echo 'Compute node:' `hostname`\n",
      "echo 'Start time:' `date +'%Y-%m-%d %T'`\n",
      "\n",
      "red\n",
      "\n"
     ]
    }
   ],
   "source": [
    "with open(\"test_script.sub\") as f:\n",
    "    print(f.read())"
   ]
  }
 ],
 "metadata": {
  "kernelspec": {
   "display_name": "Python 2",
   "language": "python",
   "name": "python2"
  },
  "language_info": {
   "codemirror_mode": {
    "name": "ipython",
    "version": 2
   },
   "file_extension": ".py",
   "mimetype": "text/x-python",
   "name": "python",
   "nbconvert_exporter": "python",
   "pygments_lexer": "ipython2",
   "version": "2.7.12"
  }
 },
 "nbformat": 4,
 "nbformat_minor": 2
}
