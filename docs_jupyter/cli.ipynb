{
 "cells": [
  {
   "cell_type": "markdown",
   "metadata": {
    "deletable": true,
    "editable": true
   },
   "source": [
    "# <img src=\"../img/divvy_logo.svg\" class=\"img-header\"> command-line tutorial\n",
    "\n",
    "`Divvy` also provides a command-line interface that gives you the same power as the python API. You can use `--help` to get a list of the command-line options:"
   ]
  },
  {
   "cell_type": "code",
   "execution_count": 29,
   "metadata": {
    "collapsed": false,
    "deletable": true,
    "editable": true
   },
   "outputs": [
    {
     "name": "stdout",
     "output_type": "stream",
     "text": [
      "version: 0.2-dev\n",
      "usage: divvy [-h] [-V] [-C CONFIG] [-S SETTINGS] [-P PACKAGE] -O OUTFILE\n",
      "\n",
      "divvy - write compute jobs that can be submitted to any computing resource\n",
      "\n",
      "optional arguments:\n",
      "  -h, --help            show this help message and exit\n",
      "  -V, --version         show program's version number and exit\n",
      "  -C CONFIG, --config CONFIG\n",
      "                        Divvy configuration file.\n",
      "  -S SETTINGS, --settings SETTINGS\n",
      "                        YAML file with job settings to populate the template.\n",
      "  -P PACKAGE, --package PACKAGE\n",
      "                        Compute package\n",
      "  -O OUTFILE, --outfile OUTFILE\n",
      "                        Output filepath\n",
      "\n",
      "https://github.com/pepkit/divvy\n"
     ]
    }
   ],
   "source": [
    "divvy --help"
   ]
  },
  {
   "cell_type": "markdown",
   "metadata": {
    "deletable": true,
    "editable": true
   },
   "source": [
    "## The settings file\n",
    "\n",
    "The settings argument is where you can pass an existing `yaml` file with key-value pairs. Here's a simple example:"
   ]
  },
  {
   "cell_type": "code",
   "execution_count": 30,
   "metadata": {
    "collapsed": false,
    "deletable": true,
    "editable": true
   },
   "outputs": [
    {
     "name": "stdout",
     "output_type": "stream",
     "text": [
      "time: 4-0-0\n",
      "logfile: results.log\n",
      "cores: 6\n",
      "partition: large_mem\n",
      "mem: 16G\n"
     ]
    }
   ],
   "source": [
    "cat settings.yaml"
   ]
  },
  {
   "cell_type": "markdown",
   "metadata": {
    "deletable": true,
    "editable": true
   },
   "source": [
    "Now let's take a look at the template we are going to use by activating the `slurm` package"
   ]
  },
  {
   "cell_type": "code",
   "execution_count": 31,
   "metadata": {
    "collapsed": false,
    "deletable": true,
    "editable": true
   },
   "outputs": [
    {
     "name": "stdout",
     "output_type": "stream",
     "text": [
      "#!/bin/bash\n",
      "#SBATCH --job-name='{JOBNAME}'\n",
      "#SBATCH --output='{LOGFILE}'\n",
      "#SBATCH --mem='{MEM}'\n",
      "#SBATCH --cpus-per-task='{CORES}'\n",
      "#SBATCH --time='{TIME}'\n",
      "#SBATCH --partition='{PARTITION}'\n",
      "#SBATCH -m block\n",
      "#SBATCH --ntasks=1\n",
      "\n",
      "echo 'Compute node:' `hostname`\n",
      "echo 'Start time:' `date +'%Y-%m-%d %T'`\n",
      "\n",
      "{CODE}\n"
     ]
    }
   ],
   "source": [
    "cat ../divvy/submit_templates/slurm_template.sub"
   ]
  },
  {
   "cell_type": "markdown",
   "metadata": {
    "deletable": true,
    "editable": true
   },
   "source": [
    "We use `divvy` to populate that template with our list of variables above, like this:"
   ]
  },
  {
   "cell_type": "code",
   "execution_count": 32,
   "metadata": {
    "collapsed": false,
    "deletable": true,
    "editable": true
   },
   "outputs": [
    {
     "name": "stdout",
     "output_type": "stream",
     "text": [
      "Using default config file, no global config file provided in environment variable(s): ['DIVCFG', 'PEPENV']\n",
      "Loading divvy config file: /home/nsheff/.local/lib/python2.7/site-packages/divvy/submit_templates/default_compute_settings.yaml\n",
      "Available packages: default, local, slurm\n",
      "Activating compute package 'default'\n",
      "Activating compute package 'slurm'\n",
      "Loading yaml settings file: settings.yaml\n",
      "Writing script to /home/nsheff/code/divvy/docs_jupyter/test.sub\n"
     ]
    }
   ],
   "source": [
    "divvy -P slurm -S settings.yaml -O test.sub"
   ]
  },
  {
   "cell_type": "markdown",
   "metadata": {
    "deletable": true,
    "editable": true
   },
   "source": [
    "Now we can take a look at what our sbumission scripts looks like."
   ]
  },
  {
   "cell_type": "code",
   "execution_count": 33,
   "metadata": {
    "collapsed": false,
    "deletable": true,
    "editable": true
   },
   "outputs": [
    {
     "name": "stdout",
     "output_type": "stream",
     "text": [
      "#!/bin/bash\n",
      "#SBATCH --job-name='{JOBNAME}'\n",
      "#SBATCH --output='results.log'\n",
      "#SBATCH --mem='16G'\n",
      "#SBATCH --cpus-per-task='6'\n",
      "#SBATCH --time='4-0-0'\n",
      "#SBATCH --partition='large_mem'\n",
      "#SBATCH -m block\n",
      "#SBATCH --ntasks=1\n",
      "\n",
      "echo 'Compute node:' `hostname`\n",
      "echo 'Start time:' `date +'%Y-%m-%d %T'`\n",
      "\n",
      "{CODE}\n"
     ]
    }
   ],
   "source": [
    "cat test.sub"
   ]
  },
  {
   "cell_type": "markdown",
   "metadata": {
    "deletable": true,
    "editable": true
   },
   "source": [
    "We populated several variables, like `{LOGFILE}` and `{TIME}`, from the `settings.yaml` file. However, the `{CODE}` and `{JOBNAME}` variables are still unpopulated, so this submission script is incomplete. To remedy this, we'll use `divvy`'s command-line variable passing: any non-interpreted arguments passed to `divvy` are assumed to be variables to populate the template. These command-line variables are considered highest priority and so will override any values in the more distant locations. For example:"
   ]
  },
  {
   "cell_type": "code",
   "execution_count": 34,
   "metadata": {
    "collapsed": false,
    "deletable": true,
    "editable": true
   },
   "outputs": [
    {
     "name": "stdout",
     "output_type": "stream",
     "text": [
      "Custom vars: {}\n",
      "Using default config file, no global config file provided in environment variable(s): ['DIVCFG', 'PEPENV']\n",
      "Loading divvy config file: /home/nsheff/.local/lib/python2.7/site-packages/divvy/submit_templates/default_compute_settings.yaml\n",
      "Available packages: default, local, slurm\n",
      "Activating compute package 'default'\n",
      "Activating compute package 'slurm'\n",
      "Loading yaml settings file: settings.yaml\n",
      "Writing script to /home/nsheff/code/divvy/docs_jupyter/test.sub\n"
     ]
    }
   ],
   "source": [
    "divvy -P slurm -S settings.yaml -O test.sub --code run-this-cmd --jobname 12345 --time 6-0-0"
   ]
  },
  {
   "cell_type": "code",
   "execution_count": 35,
   "metadata": {
    "collapsed": false,
    "deletable": true,
    "editable": true
   },
   "outputs": [
    {
     "name": "stdout",
     "output_type": "stream",
     "text": [
      "#!/bin/bash\n",
      "#SBATCH --job-name='12345'\n",
      "#SBATCH --output='results.log'\n",
      "#SBATCH --mem='16G'\n",
      "#SBATCH --cpus-per-task='6'\n",
      "#SBATCH --time='6-0-0'\n",
      "#SBATCH --partition='large_mem'\n",
      "#SBATCH -m block\n",
      "#SBATCH --ntasks=1\n",
      "\n",
      "echo 'Compute node:' `hostname`\n",
      "echo 'Start time:' `date +'%Y-%m-%d %T'`\n",
      "\n",
      "run-this-cmd\n"
     ]
    }
   ],
   "source": [
    "cat test.sub"
   ]
  },
  {
   "cell_type": "markdown",
   "metadata": {
    "deletable": true,
    "editable": true
   },
   "source": [
    "Now we have a complete script, which we can run with `sbatch test.sub`. Notice also that the `time` variable uses the one provided on the CLI rather than the one provided in the `settings.yaml` file, because the CLI has a higher priority.\n",
    "\n",
    "Variables can come from these 3 sources, in order of increasing priority: 1) compute package (defined in the `divvy` configuration file and selected with the `-P` or `--package` argument); 2) `settings.yaml` file, passed with `-S` or `--settings`; 3) any additional variables passed on the command line."
   ]
  }
 ],
 "metadata": {
  "kernelspec": {
   "display_name": "Bash",
   "language": "bash",
   "name": "bash"
  },
  "language_info": {
   "codemirror_mode": "shell",
   "file_extension": ".sh",
   "mimetype": "text/x-sh",
   "name": "bash"
  }
 },
 "nbformat": 4,
 "nbformat_minor": 2
}
